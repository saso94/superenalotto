{
  "nbformat": 4,
  "nbformat_minor": 0,
  "metadata": {
    "colab": {
      "provenance": [],
      "mount_file_id": "13yF6W74ryGBaGkyam_sTNDjT53d2DuSG",
      "authorship_tag": "ABX9TyMHUo7HIVPsTHTaQ1gHPZeB",
      "include_colab_link": true
    },
    "kernelspec": {
      "name": "python3",
      "display_name": "Python 3"
    },
    "language_info": {
      "name": "python"
    }
  },
  "cells": [
    {
      "cell_type": "markdown",
      "metadata": {
        "id": "view-in-github",
        "colab_type": "text"
      },
      "source": [
        "<a href=\"https://colab.research.google.com/github/saso94/superenalotto/blob/main/superenalotto.ipynb\" target=\"_parent\"><img src=\"https://colab.research.google.com/assets/colab-badge.svg\" alt=\"Open In Colab\"/></a>"
      ]
    },
    {
      "cell_type": "code",
      "execution_count": null,
      "metadata": {
        "colab": {
          "base_uri": "https://localhost:8080/"
        },
        "id": "lGOROCveYV9-",
        "outputId": "8c692cd9-8f88-449a-82f5-8abc5c0fe9a6"
      },
      "outputs": [
        {
          "output_type": "stream",
          "name": "stdout",
          "text": [
            "     Hai cercato:\\nN.           Unnamed: 1 Unnamed: 2 Unnamed: 3 Unnamed: 4  \\\n",
            "0               conc.           Data estr.         1°         2°         3°   \n",
            "1                  59  2023-05-18 00:00:00          5         16         35   \n",
            "2                  58  2023-05-16 00:00:00         20         42         52   \n",
            "3                  57  2023-05-13 00:00:00          3         31         35   \n",
            "4                  56  2023-05-11 00:00:00          1          6         35   \n",
            "...               ...                  ...        ...        ...        ...   \n",
            "3576                5  1997-12-17 00:00:00         10         65         77   \n",
            "3577                4  1997-12-13 00:00:00          5         22         34   \n",
            "3578                3  1997-12-10 00:00:00          1          2         14   \n",
            "3579                2  1997-12-06 00:00:00          2          4         25   \n",
            "3580                1  1997-12-03 00:00:00         20         36         39   \n",
            "\n",
            "     Unnamed: 5 Unnamed: 6 Unnamed: 7 Unnamed: 8 Unnamed: 9  \n",
            "0            4°         5°         6°          J         SS  \n",
            "1            63         69         77         29          3  \n",
            "2            67         72         77         82          3  \n",
            "3            57         82         84         68         16  \n",
            "4            48         62         65         43         83  \n",
            "...         ...        ...        ...        ...        ...  \n",
            "3576         80         81         86         89        NaN  \n",
            "3577         61         62         77         58        NaN  \n",
            "3578         23         78         88         40        NaN  \n",
            "3579         29         30         52         24        NaN  \n",
            "3580         41         72         76         88        NaN  \n",
            "\n",
            "[3581 rows x 10 columns]\n"
          ]
        }
      ],
      "source": [
        "import pandas as pd\n",
        "\n",
        "# leggi il file excel\n",
        "\n",
        "df = pd.read_excel('/content/drive/MyDrive/Colab Notebooks/Estrazioni.xlsx')\n",
        "\n",
        "# stampa il contenuto\n",
        "\n",
        "print(df)"
      ]
    },
    {
      "cell_type": "markdown",
      "source": [
        "- in questa prima parte ho caricato il database convertito in formato excel (xlsx), effettuato una lettura tramite la funzione read.excel di pandas e stampato il tutto"
      ],
      "metadata": {
        "id": "6GvhCFLQ-1PG"
      }
    },
    {
      "cell_type": "code",
      "source": [
        "# formattare i dati per visualizzarli in tabella\n",
        "\n",
        "from tabulate import tabulate\n",
        "df = pd.read_excel('/content/drive/MyDrive/Colab Notebooks/Estrazioni.xlsx')\n",
        "\n",
        "# visualizza i dati come tabella\n",
        "\n",
        "tabella = tabulate(df, headers='keys', tablefmt='psql')\n",
        "print(tabella)"
      ],
      "metadata": {
        "id": "0UxatXHjZKaY"
      },
      "execution_count": null,
      "outputs": []
    },
    {
      "cell_type": "markdown",
      "source": [
        "- ho dato una formattazione ai dati tramite tabulate. ho inserito il comando per visualizzare il dataframe come tabella. mi sono reso conto che devo selezionare righe e colonne per poter lavorare."
      ],
      "metadata": {
        "id": "RWO3kqrZ_deV"
      }
    },
    {
      "cell_type": "code",
      "source": [
        "DB_principale = \"df\"\n",
        "\n",
        "# ho salvato i dati in una variabile e convertito in dataframe\n",
        "\n",
        "\n",
        "\n",
        "# rimuovere ora da colonna 1 lasciando solo la data\n",
        "\n",
        "\n",
        "\n",
        "\n",
        "# selezionare righe e colonne e dividere di dati secondo 'anno'\n",
        "\n",
        "# dividere i numeri normali dai numeri jolly e superstar\n",
        "\n",
        "#salva un dataframe con variabili data, jolly, ss\n",
        "\n",
        "# trovare per ogni anno il valore massimo e il valore minimo per ogni colonna mensile. salvare dataframe\n",
        "\n",
        "# calcolare numeri frequenti, numeri meno frequenti su base settimanale e salvare dataframe\n",
        "\n",
        "# il valore più comune e quello più raro annuo per ogni mese e salvare dataframe\n",
        "\n",
        "# calcolare moda, media, mediana mensile per ogni anno e salvare dataframe\n",
        "\n",
        "# creare una variabile che esclude un numero se questo viene selezionato all'interno di una combinazione. \n",
        "\n",
        "# combinazione: 6 numeri di cui 2 spesso, 2 ritardatari e 2 casuali.\n",
        "# combinazione: 6 numeri di cui 1 s, 3 r e 2 c.\n",
        "# combinazione: 6 numeri di cui 3 s, 1 r e 2 c.\n",
        "# combinazione: 6 numeri di cui 4 s, 0 r e 2 c.\n",
        "# combinazione: 6 numeri di cui 0 s, 4 r e 2 c.\n",
        "# combinazione: 6 numeri di cui 3 s, 3 r e 0 c.\n",
        "# combinazione: 6 numeri di cui 1 s, 1 r e 4 c. \n",
        "# combinazione jolly/ss: 1s,1r; 1r,1s; 1s,1s; 1r,1r. \n",
        "\n",
        "# usare framework per creare GUI\n",
        "\n",
        "# inserire il tutto come app \n"
      ],
      "metadata": {
        "id": "Kux6zF2cofEG"
      },
      "execution_count": null,
      "outputs": []
    },
    {
      "cell_type": "code",
      "source": [],
      "metadata": {
        "id": "8vefgOs47nwC"
      },
      "execution_count": null,
      "outputs": []
    }
  ]
}